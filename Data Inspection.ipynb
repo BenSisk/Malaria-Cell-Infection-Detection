{
 "cells": [
  {
   "cell_type": "markdown",
   "id": "afd017c7",
   "metadata": {},
   "source": [
    "Import a couple packages to help with data inspection, cv2 for image data and glob for file stuff\n",
    "\n",
    "Dataset is the cell images for detecting malaria"
   ]
  },
  {
   "cell_type": "code",
   "execution_count": 59,
   "id": "c83b5ea8",
   "metadata": {},
   "outputs": [],
   "source": [
    "import cv2\n",
    "import glob"
   ]
  },
  {
   "cell_type": "markdown",
   "id": "526cda2e",
   "metadata": {},
   "source": [
    "There are two data classes, Parasitized and Uninfected. This is binary classification, classifying as either one or the other, never neither or both.\n",
    "\n",
    "Data is stored in separate subdirectories in the data directory as .png images."
   ]
  },
  {
   "cell_type": "code",
   "execution_count": 60,
   "id": "edfabb10",
   "metadata": {},
   "outputs": [
    {
     "name": "stdout",
     "output_type": "stream",
     "text": [
      " Volume in drive C has no label.\n",
      " Volume Serial Number is AA57-056F\n",
      "\n",
      " Directory of C:\\Users\\Ben\\Documents\\Uni\\Machine Learning KV7006\\Workspace\\data\n",
      "\n",
      "06/03/2023  18:59    <DIR>          .\n",
      "06/03/2023  20:20    <DIR>          ..\n",
      "06/03/2023  18:44    <DIR>          Parasitized\n",
      "06/03/2023  18:45    <DIR>          Uninfected\n",
      "               0 File(s)              0 bytes\n",
      "               4 Dir(s)  134,842,613,760 bytes free\n"
     ]
    }
   ],
   "source": [
    "#Parasitized (Infected) and uninfected folders acting as labels for the images\n",
    "!dir data"
   ]
  },
  {
   "cell_type": "code",
   "execution_count": 21,
   "id": "cbc718da",
   "metadata": {},
   "outputs": [
    {
     "name": "stdout",
     "output_type": "stream",
     "text": [
      "(148, 142, 3)\n"
     ]
    }
   ],
   "source": [
    "#path of first image in folder\n",
    "path = glob.glob(\"./data/Parasitized/*.png\")[0]\n",
    "\n",
    "#read image\n",
    "image = cv2.imread(path)\n",
    "#print shape of image\n",
    "print(image.shape)"
   ]
  },
  {
   "cell_type": "markdown",
   "id": "af7a186c",
   "metadata": {},
   "source": [
    "The above shows that the first image is an image of size 148 x 142 x 3, with the 3 suggesting this as the RGB channel. Therefore, this is very likely an RGB image of size 148 x 142"
   ]
  },
  {
   "cell_type": "code",
   "execution_count": 22,
   "id": "38bc8099",
   "metadata": {},
   "outputs": [
    {
     "name": "stdout",
     "output_type": "stream",
     "text": [
      "(208, 148, 3)\n"
     ]
    }
   ],
   "source": [
    "#path of first image in folder\n",
    "path = glob.glob(\"./data/Parasitized/*.png\")[1]\n",
    "\n",
    "#read image\n",
    "image = cv2.imread(path)\n",
    "#print shape of image\n",
    "print(image.shape)"
   ]
  },
  {
   "cell_type": "markdown",
   "id": "a34f8a68",
   "metadata": {},
   "source": [
    "The above shows the second sample, of size 208 x 148 and is also RGB. This suggests that the dataset consists of images of different sizes, but is likely to be RGB data, which a retrospective look at the images themselves corroborates.\n",
    "\n",
    "Machine learning is more challenging when the images are different sizes, and therefore the dataset will likely be resized before training."
   ]
  },
  {
   "cell_type": "code",
   "execution_count": 62,
   "id": "af87a7f0",
   "metadata": {},
   "outputs": [],
   "source": [
    "#read all images and add to a regular python list\n",
    "infected = []\n",
    "uninfected = []\n",
    "for file in glob.glob(\"./data/Parasitized/*.png\"):\n",
    "    infected.append(cv2.imread(file))\n",
    "    \n",
    "for file in glob.glob(\"./data/Uninfected/*.png\"):\n",
    "    uninfected.append(cv2.imread(file))"
   ]
  },
  {
   "cell_type": "code",
   "execution_count": 64,
   "id": "b0382d7c",
   "metadata": {},
   "outputs": [
    {
     "name": "stdout",
     "output_type": "stream",
     "text": [
      "Infected image samples: 13779\n",
      "Uninfected image samples: 13779\n"
     ]
    }
   ],
   "source": [
    "#print length of python lists (number of parasitized/infected and uninfected image samples)\n",
    "print(\"Infected image samples: \" + str(len(images)))\n",
    "print(\"Uninfected image samples: \" + str(len(uninfected)))"
   ]
  },
  {
   "cell_type": "markdown",
   "id": "724531fe",
   "metadata": {},
   "source": [
    "Above shows that there are the same amount of infected samples as there are uninfected samples, and that the dataset is very large considering there are only two classes."
   ]
  },
  {
   "cell_type": "code",
   "execution_count": 36,
   "id": "e02b4dc8",
   "metadata": {},
   "outputs": [
    {
     "name": "stdout",
     "output_type": "stream",
     "text": [
      "Minimum_X: 40\n",
      "Maximum_X: 385\n",
      "Minimum_Y: 46\n",
      "Maximum_Y: 394\n"
     ]
    }
   ],
   "source": [
    "Minimum_X = 10000\n",
    "Maximum_X = -1\n",
    "Minimum_Y = 10000\n",
    "Maximum_Y = -1\n",
    "\n",
    "for image in infected:\n",
    "    if (Minimum_X > image.shape[0]):\n",
    "        Minimum_X = image.shape[0]\n",
    "    if (Maximum_X < image.shape[0]):\n",
    "        Maximum_X = image.shape[0]\n",
    "    if (Minimum_Y > image.shape[1]):\n",
    "        Minimum_Y = image.shape[1]\n",
    "    if (Maximum_Y < image.shape[1]):\n",
    "        Maximum_Y = image.shape[1]\n",
    "\n",
    "print(\"Minimum_X: \" + str(Minimum_X))\n",
    "print(\"Maximum_X: \" + str(Maximum_X))\n",
    "print(\"Minimum_Y: \" + str(Minimum_Y))\n",
    "print(\"Maximum_Y: \" + str(Maximum_Y))"
   ]
  },
  {
   "cell_type": "markdown",
   "id": "7283b4eb",
   "metadata": {},
   "source": [
    "The above gets the minimum and maximum size of both the x and y axis of the images in the infected dataset.\n",
    "\n",
    "The results show that the image width ranges from 40 to 385, and the height ranges from 46 to 394.\n",
    "\n",
    "This gives a large range for potential image resizing, as either way image size will either be greatly reduced or greatly increased."
   ]
  },
  {
   "cell_type": "code",
   "execution_count": 54,
   "id": "55b4d8ca",
   "metadata": {},
   "outputs": [
    {
     "name": "stdout",
     "output_type": "stream",
     "text": [
      "Count_X min: 407\n",
      "Count_Y min: 407\n",
      "Count_X max: 12\n",
      "Count_Y max: 9\n"
     ]
    }
   ],
   "source": [
    "count_Xmin = 0\n",
    "count_Ymin = 0\n",
    "count_Xmax = 0\n",
    "count_Ymax = 0\n",
    "\n",
    "for image in infected:\n",
    "    if (image.shape[0] < 100):\n",
    "        count_Xmin += 1\n",
    "    if (image.shape[1] < 100):\n",
    "        count_Ymin += 1\n",
    "    if (image.shape[0] > 250):\n",
    "        count_Xmax += 1\n",
    "    if (image.shape[1] > 250):\n",
    "        count_Ymax += 1\n",
    "\n",
    "print(\"Count_X min: \" + str(count_Xmin))\n",
    "print(\"Count_Y min: \" + str(count_Ymin))\n",
    "print(\"Count_X max: \" + str(count_Xmax))\n",
    "print(\"Count_Y max: \" + str(count_Ymax))"
   ]
  },
  {
   "cell_type": "markdown",
   "id": "519a656f",
   "metadata": {},
   "source": [
    "This prints out the number of samples that have a width or height of less than 100 pixels or greater than 250 pixels. This is to ensure that the minimum and maximum width and height data from the previous code block was not caused by outliers/anomalous samples. The findings suggest that the data does in fact contain many smaller samples, with enough to suggest that this is not anomalous and should remain included, however does not include very many large samples. These should be considered whether to be included or not, but given that they are larger and will likely be scaled down, this is less of a concern than if a few very small samples were being scaled up."
   ]
  }
 ],
 "metadata": {
  "kernelspec": {
   "display_name": "Python 3 (ipykernel)",
   "language": "python",
   "name": "python3"
  },
  "language_info": {
   "codemirror_mode": {
    "name": "ipython",
    "version": 3
   },
   "file_extension": ".py",
   "mimetype": "text/x-python",
   "name": "python",
   "nbconvert_exporter": "python",
   "pygments_lexer": "ipython3",
   "version": "3.10.10"
  }
 },
 "nbformat": 4,
 "nbformat_minor": 5
}
