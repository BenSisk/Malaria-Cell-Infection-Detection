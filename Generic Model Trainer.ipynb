{
 "cells": [
  {
   "cell_type": "code",
   "execution_count": 1,
   "id": "04d88428-b895-4f28-b093-d5929e59f6d4",
   "metadata": {
    "tags": []
   },
   "outputs": [
    {
     "name": "stdout",
     "output_type": "stream",
     "text": [
      "Trial 26 Complete [00h 02m 12s]\n",
      "val_acc: 0.9433139562606812\n",
      "\n",
      "Best val_acc So Far: 0.950036346912384\n",
      "Total elapsed time: 00h 22m 57s\n",
      "INFO:tensorflow:Oracle triggered exit\n",
      "\n",
      "    The hyperparameter search is complete. The optimal number of units in the first densely-connected\n",
      "    layer is 448 and the optimal learning rate for the optimizer\n",
      "    is 1e-05.\n",
      "    \n",
      "Epoch 1/50\n",
      "151/151 [==============================] - 13s 82ms/step - loss: 0.0736 - acc: 0.9965 - val_loss: 0.2843 - val_acc: 0.9435\n",
      "Epoch 2/50\n",
      "151/151 [==============================] - 13s 82ms/step - loss: 0.0168 - acc: 0.9973 - val_loss: 0.3307 - val_acc: 0.9430\n",
      "Epoch 3/50\n",
      "151/151 [==============================] - 13s 82ms/step - loss: 0.0082 - acc: 0.9991 - val_loss: 0.3569 - val_acc: 0.9440\n",
      "Epoch 4/50\n",
      "151/151 [==============================] - 13s 82ms/step - loss: 0.0051 - acc: 0.9994 - val_loss: 0.3854 - val_acc: 0.9424\n",
      "Epoch 5/50\n",
      "151/151 [==============================] - 13s 82ms/step - loss: 0.0035 - acc: 0.9997 - val_loss: 0.4299 - val_acc: 0.9415\n",
      "Epoch 6/50\n",
      "151/151 [==============================] - 13s 82ms/step - loss: 0.0025 - acc: 0.9998 - val_loss: 0.4736 - val_acc: 0.9404\n",
      "Best epoch: 3\n",
      "Epoch 1/3\n",
      "151/151 [==============================] - 13s 83ms/step - loss: 0.1006 - acc: 0.9853 - val_loss: 0.2667 - val_acc: 0.9408\n",
      "Epoch 2/3\n",
      "151/151 [==============================] - 13s 83ms/step - loss: 0.0202 - acc: 0.9966 - val_loss: 0.3246 - val_acc: 0.9408\n",
      "Epoch 3/3\n",
      "151/151 [==============================] - 13s 83ms/step - loss: 0.0105 - acc: 0.9987 - val_loss: 0.3559 - val_acc: 0.9404\n",
      "22/22 [==============================] - 2s 40ms/step - loss: 0.2891 - acc: 0.9425\n",
      "[test loss, test accuracy]: [0.2890680432319641, 0.9424538612365723]\n"
     ]
    },
    {
     "name": "stderr",
     "output_type": "stream",
     "text": [
      "WARNING:absl:Found untraced functions such as _jit_compiled_convolution_op, _jit_compiled_convolution_op while saving (showing 2 of 2). These functions will not be directly callable after loading.\n"
     ]
    },
    {
     "name": "stdout",
     "output_type": "stream",
     "text": [
      "INFO:tensorflow:Assets written to: Models/Custom 2\\assets\n"
     ]
    },
    {
     "name": "stderr",
     "output_type": "stream",
     "text": [
      "INFO:tensorflow:Assets written to: Models/Custom 2\\assets\n"
     ]
    }
   ],
   "source": [
    "from HyperTuner import HyperTuner\n",
    "import Models\n",
    "\n",
    "# model, image_size = Models.getEfficientNet()\n",
    "# HyperTuner(model, name = \"EfficientNet\", batch_size = 64, image_size = image_size)\n",
    "\n",
    "# print(\"CUSTOM TIME\")\n",
    "\n",
    "# model, image_size = Models.getCustomModel()\n",
    "# HyperTuner(model, name = \"Custom\", batch_size = 128, image_size = image_size)\n",
    "\n",
    "# print(\"INCEPTION TIME\")\n",
    "\n",
    "# model, image_size = Models.getInception()\n",
    "# HyperTuner(model, name = \"Inception\", batch_size = 64, image_size = image_size)\n",
    "\n",
    "# print(\"RESNET TIME\")\n",
    "\n",
    "# model, image_size = Models.getResNet50()\n",
    "# HyperTuner(model, name = \"ResNet50\", batch_size = 64, image_size = image_size)\n",
    "\n",
    "# print(\"VGG TIME\")\n",
    "\n",
    "# model, image_size = Models.getVGG()\n",
    "# HyperTuner(model, name = \"VGG\", batch_size = 64, image_size = image_size)\n",
    "\n",
    "\n",
    "model, image_size = Models.getCustomModel2()\n",
    "model.summary()\n",
    "HyperTuner(model, name = \"Custom 2\", batch_size = 128, image_size = image_size)"
   ]
  }
 ],
 "metadata": {
  "kernelspec": {
   "display_name": "Python 3 (ipykernel)",
   "language": "python",
   "name": "python3"
  },
  "language_info": {
   "codemirror_mode": {
    "name": "ipython",
    "version": 3
   },
   "file_extension": ".py",
   "mimetype": "text/x-python",
   "name": "python",
   "nbconvert_exporter": "python",
   "pygments_lexer": "ipython3",
   "version": "3.10.10"
  }
 },
 "nbformat": 4,
 "nbformat_minor": 5
}
