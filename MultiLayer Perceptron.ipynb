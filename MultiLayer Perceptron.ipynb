{
 "cells": [
  {
   "cell_type": "code",
   "execution_count": 1,
   "id": "e0f50211-33a9-43b8-ab17-2d3cb90d6a56",
   "metadata": {},
   "outputs": [
    {
     "name": "stdout",
     "output_type": "stream",
     "text": [
      "Found 27558 files belonging to 2 classes.\n",
      "Using 19291 files for training.\n",
      "Found 27558 files belonging to 2 classes.\n",
      "Using 8267 files for validation.\n"
     ]
    }
   ],
   "source": [
    "import tensorflow as tf\n",
    "from tensorflow import keras\n",
    "from LoadData import loadData\n",
    "\n",
    "batch_size = 128\n",
    "image_size = (224, 224)\n",
    "\n",
    "train, val, test = loadData(batch_size, image_size)"
   ]
  },
  {
   "cell_type": "code",
   "execution_count": 2,
   "id": "9af2662e-fb86-40a2-ba52-3ccfa7dd37c3",
   "metadata": {
    "tags": []
   },
   "outputs": [
    {
     "name": "stdout",
     "output_type": "stream",
     "text": [
      "Model: \"sequential\"\n",
      "_________________________________________________________________\n",
      " Layer (type)                Output Shape              Param #   \n",
      "=================================================================\n",
      " flatten (Flatten)           (None, 150528)            0         \n",
      "                                                                 \n",
      " dense (Dense)               (None, 1024)              154141696 \n",
      "                                                                 \n",
      " dense_1 (Dense)             (None, 1024)              1049600   \n",
      "                                                                 \n",
      " dense_2 (Dense)             (None, 512)               524800    \n",
      "                                                                 \n",
      " dense_3 (Dense)             (None, 128)               65664     \n",
      "                                                                 \n",
      " dense_4 (Dense)             (None, 1)                 129       \n",
      "                                                                 \n",
      "=================================================================\n",
      "Total params: 155,781,889\n",
      "Trainable params: 155,781,889\n",
      "Non-trainable params: 0\n",
      "_________________________________________________________________\n"
     ]
    }
   ],
   "source": [
    "# Define the model architecture\n",
    "model = keras.Sequential([\n",
    "    keras.layers.Flatten(input_shape = (224, 224, 3)),\n",
    "    keras.layers.Dense(units=1024, activation='relu'),\n",
    "    keras.layers.Dense(units=1024, activation='relu'),\n",
    "    keras.layers.Dense(units=512, activation='relu'),\n",
    "    keras.layers.Dense(units=128, activation='relu'),\n",
    "    keras.layers.Dense(units=1, activation='sigmoid')\n",
    "])\n",
    "\n",
    "model.summary()\n",
    "\n",
    "# stop_early = tf.keras.callbacks.EarlyStopping(monitor='val_loss', patience=5)\n",
    "\n",
    "# # Compile the model with loss function, optimizer, and metrics\n",
    "# model.compile(optimizer=keras.optimizers.Adam(),\n",
    "#                 loss='binary_crossentropy',              \n",
    "#                 metrics=['acc'])\n",
    "\n",
    "# # Train the model on training data\n",
    "# epochs = 50\n",
    "\n",
    "# model.fit(train,\n",
    "#             validation_data=val,\n",
    "#             epochs=epochs,\n",
    "#             batch_size=batch_size,\n",
    "#             callbacks=[stop_early])\n",
    "\n",
    "# # Evaluate the model on test data\n",
    "# loss, accuracy = model.evaluate(test)\n",
    "\n",
    "\n",
    "# export_path = \"Models/MLP2\"\n",
    "# model.save(export_path)"
   ]
  }
 ],
 "metadata": {
  "kernelspec": {
   "display_name": "Python 3 (ipykernel)",
   "language": "python",
   "name": "python3"
  },
  "language_info": {
   "codemirror_mode": {
    "name": "ipython",
    "version": 3
   },
   "file_extension": ".py",
   "mimetype": "text/x-python",
   "name": "python",
   "nbconvert_exporter": "python",
   "pygments_lexer": "ipython3",
   "version": "3.10.10"
  }
 },
 "nbformat": 4,
 "nbformat_minor": 5
}
